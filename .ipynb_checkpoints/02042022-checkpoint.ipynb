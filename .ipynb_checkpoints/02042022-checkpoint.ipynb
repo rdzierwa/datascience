{
 "cells": [
  {
   "cell_type": "code",
   "execution_count": 1,
   "id": "bae82492",
   "metadata": {},
   "outputs": [],
   "source": [
    "lst = [2,3,4]"
   ]
  },
  {
   "cell_type": "code",
   "execution_count": 9,
   "id": "7f59c983",
   "metadata": {},
   "outputs": [
    {
     "data": {
      "text/plain": [
       "140518222224448"
      ]
     },
     "execution_count": 9,
     "metadata": {},
     "output_type": "execute_result"
    }
   ],
   "source": [
    "type(lst)\n",
    "id(lst)"
   ]
  },
  {
   "cell_type": "code",
   "execution_count": 5,
   "id": "1f871e4e",
   "metadata": {},
   "outputs": [],
   "source": [
    "lst[0]=2"
   ]
  },
  {
   "cell_type": "code",
   "execution_count": 49,
   "id": "76cbce0f",
   "metadata": {},
   "outputs": [
    {
     "data": {
      "text/plain": [
       "140518222224448"
      ]
     },
     "execution_count": 49,
     "metadata": {},
     "output_type": "execute_result"
    }
   ],
   "source": [
    "id(lst)"
   ]
  },
  {
   "cell_type": "code",
   "execution_count": 12,
   "id": "730f106f",
   "metadata": {},
   "outputs": [
    {
     "data": {
      "text/plain": [
       "'test'"
      ]
     },
     "execution_count": 12,
     "metadata": {},
     "output_type": "execute_result"
    }
   ],
   "source": [
    "string"
   ]
  },
  {
   "cell_type": "code",
   "execution_count": 13,
   "id": "3ddcba08",
   "metadata": {},
   "outputs": [
    {
     "data": {
      "text/plain": [
       "140518189186672"
      ]
     },
     "execution_count": 13,
     "metadata": {},
     "output_type": "execute_result"
    }
   ],
   "source": [
    "id(string)"
   ]
  },
  {
   "cell_type": "code",
   "execution_count": 32,
   "id": "f18bbf78",
   "metadata": {},
   "outputs": [
    {
     "data": {
      "text/plain": [
       "'test'"
      ]
     },
     "execution_count": 32,
     "metadata": {},
     "output_type": "execute_result"
    }
   ],
   "source": [
    "string"
   ]
  },
  {
   "cell_type": "code",
   "execution_count": 48,
   "id": "c5e73f50",
   "metadata": {},
   "outputs": [
    {
     "data": {
      "text/plain": [
       "140518189186672"
      ]
     },
     "execution_count": 48,
     "metadata": {},
     "output_type": "execute_result"
    }
   ],
   "source": [
    "id(string)"
   ]
  },
  {
   "cell_type": "code",
   "execution_count": 50,
   "id": "727bf9be",
   "metadata": {},
   "outputs": [],
   "source": [
    "lst.append(9)"
   ]
  },
  {
   "cell_type": "code",
   "execution_count": 51,
   "id": "f4b6510c",
   "metadata": {},
   "outputs": [
    {
     "data": {
      "text/plain": [
       "[2, 3, 4, 9]"
      ]
     },
     "execution_count": 51,
     "metadata": {},
     "output_type": "execute_result"
    }
   ],
   "source": [
    "lst"
   ]
  },
  {
   "cell_type": "code",
   "execution_count": 60,
   "id": "0c566bda",
   "metadata": {},
   "outputs": [],
   "source": [
    "class Jets:\n",
    "\n",
    "    def __init__(self, **kwargs):\n",
    "        self.name = kwargs['name']\n",
    "        self.origin = kwargs['country']\n",
    "\n",
    "\n",
    "first_item = Jets(name=\"F16\", country=\"USA\")\n"
   ]
  },
  {
   "cell_type": "code",
   "execution_count": 61,
   "id": "386eeeef",
   "metadata": {},
   "outputs": [
    {
     "name": "stdout",
     "output_type": "stream",
     "text": [
      "USA\n"
     ]
    }
   ],
   "source": [
    "print(first_item.origin)"
   ]
  },
  {
   "cell_type": "code",
   "execution_count": 54,
   "id": "25d3af29",
   "metadata": {},
   "outputs": [],
   "source": [
    "class Vehicle:\n",
    "    \n",
    "    def __init__(self, max_speed, mileage):\n",
    "        self.max_speed = max_speed\n",
    "        self.mileage = mileage"
   ]
  },
  {
   "cell_type": "code",
   "execution_count": 55,
   "id": "f9a8b739",
   "metadata": {},
   "outputs": [],
   "source": [
    "zad_veh = Vehicle(240,18000)"
   ]
  },
  {
   "cell_type": "code",
   "execution_count": 56,
   "id": "3906bdb9",
   "metadata": {},
   "outputs": [
    {
     "name": "stdout",
     "output_type": "stream",
     "text": [
      "Max Speed: 240 Mileage: 18000\n"
     ]
    }
   ],
   "source": [
    "print(f'Max Speed: {zad_veh.max_speed} Mileage: {zad_veh.mileage}')"
   ]
  },
  {
   "cell_type": "code",
   "execution_count": 71,
   "id": "ec9cfa48",
   "metadata": {},
   "outputs": [],
   "source": [
    "class Car:\n",
    "    \n",
    "    def __init__(self, color, mileage):\n",
    "        self.color = color\n",
    "        self.mileage = int(mileage)\n",
    "    def info(self):\n",
    "        print (f'{self.color} samochód ma {self.mileage:,} kilometrów przebiegu') # :, powoduje rozdzielenie tysięcy"
   ]
  },
  {
   "cell_type": "code",
   "execution_count": 79,
   "id": "db75afb3",
   "metadata": {},
   "outputs": [
    {
     "name": "stdout",
     "output_type": "stream",
     "text": [
      "Niebieski samochód ma 20,000,000 kilometrów przebiegu\n",
      "Czerwony samochód ma 30,000,000 kilometrów przebiegu\n"
     ]
    }
   ],
   "source": [
    "car_first = Car('Niebieski',20_000_000)\n",
    "car_second = Car ('Czerwony',30000000)\n",
    "car_third = Car(mileage= 400000, color = \"Zielony\")\n",
    "car_first.info()\n",
    "car_second.info()"
   ]
  },
  {
   "cell_type": "code",
   "execution_count": 80,
   "id": "6221cbd9",
   "metadata": {},
   "outputs": [
    {
     "name": "stdout",
     "output_type": "stream",
     "text": [
      "Niebieski samochód ma 20,000,000 kilometrów przebiegu\n",
      "Czerwony samochód ma 30,000,000 kilometrów przebiegu\n",
      "Zielony samochód ma 400,000 kilometrów przebiegu\n"
     ]
    }
   ],
   "source": [
    "### gdy mamy wiele obiektów możemy użyć pętli for iterując po instacjach i wywołać metodę danej klasy\n",
    "\n",
    "for car in (car_first, car_second,car_third):\n",
    "    car.info()"
   ]
  },
  {
   "cell_type": "code",
   "execution_count": 86,
   "id": "92efc958",
   "metadata": {},
   "outputs": [],
   "source": [
    "class Jets:\n",
    "    def __init__(self, name, country):\n",
    "        self.name = name\n",
    "        self.origin = country\n",
    "    def print_jet(self, other_jet):\n",
    "        print(self.name, self.origin)\n",
    "        print (other_jet.name, other_jet.origin)\n",
    "        \n",
    "first_item=Jets('SU33', 'Rosja')\n",
    "second_item=Jets('AJS37','Szwecja')\n",
    "third_item=Jets('Mirage2000',' Francja')\n",
    "fourth_item=Jets('F14','USA')\n",
    "fifth_item=Jets('Mig29','ZSRR')\n",
    "sixth_item=Jets('A10','USA')\n",
    "\n",
    "\n",
    "#first_army=[first_item.name,second_item.name,third_item.name,fourth_item.name,fifth_item.name,sixth_item.name]\n"
   ]
  },
  {
   "cell_type": "code",
   "execution_count": 87,
   "id": "d0eff037",
   "metadata": {},
   "outputs": [],
   "source": [
    "lista = ['first_item','second_item','third_item','fourth_item','fifth_item','sixth_item']\n"
   ]
  },
  {
   "cell_type": "code",
   "execution_count": 92,
   "id": "10c97c2f",
   "metadata": {},
   "outputs": [
    {
     "name": "stdout",
     "output_type": "stream",
     "text": [
      "A10 USA\n",
      "SU33 Rosja\n"
     ]
    }
   ],
   "source": [
    "sixth_item.print_jet(first_item) # można na instacji wywołać kolejny obiekt\n"
   ]
  },
  {
   "cell_type": "code",
   "execution_count": 94,
   "id": "78f9c0cc",
   "metadata": {},
   "outputs": [],
   "source": [
    "\"\"\"Dodaj kolejny atrybut o nazwie „quantity” do metody inicjalizacji (zwykle nazywanej konstruktorem lub __init__). Następnie zdefiniuj przypisanie tego atrybutu do atrybutu self.quantitywewnątrz konstruktora.\n",
    "Następnie utwórz 2 instancje dla: F14 i Mirage2000 z ilościami 87 i 35.\"\"\"\n",
    "\n",
    "class NewJets:\n",
    "    def __init__(self, name, country, quantity):\n",
    "        self.name = name\n",
    "        self.origin = country\n",
    "        self.quantity = quantity\n",
    "        \n",
    "    def print_jet(self, other_jet):\n",
    "        print(self.name, self.origin)\n",
    "        print (other_jet.name, other_jet.origin)\n",
    "        \n",
    "plane_one = NewJets('F14','USA',87)\n",
    "plane_second = NewJets('Mirage2000','Francja',35)\n"
   ]
  },
  {
   "cell_type": "code",
   "execution_count": 95,
   "id": "14d14258",
   "metadata": {},
   "outputs": [
    {
     "name": "stdout",
     "output_type": "stream",
     "text": [
      "Samolot F14 Stan: 87\n",
      "Samolot Mirage2000 Stan: 35\n"
     ]
    }
   ],
   "source": [
    "print (f'Samolot {plane_one.name} Stan: {plane_one.quantity}')\n",
    "print (f'Samolot {plane_second.name} Stan: {plane_second.quantity}')"
   ]
  },
  {
   "cell_type": "code",
   "execution_count": 99,
   "id": "ab86aa74",
   "metadata": {},
   "outputs": [
    {
     "name": "stdout",
     "output_type": "stream",
     "text": [
      "Suma samolotów rzeczywistych: 137\n"
     ]
    }
   ],
   "source": [
    "# obiekty możesz wywołać z poziomu listy jako klasa anonimowa np jako jets\n",
    "jets = [NewJets('F14','USA',87),NewJets('Mirage2000','Francja',35),NewJets('SU33','Rosja',15)]\n",
    "total = 0 \n",
    "for item in jets:\n",
    "    total += item.quantity\n",
    "print (\"Suma samolotów rzeczywistych:\",total)"
   ]
  },
  {
   "cell_type": "code",
   "execution_count": 101,
   "id": "af57afe8",
   "metadata": {},
   "outputs": [],
   "source": [
    "class Nobel():\n",
    "    def __init__(self,category,year,winner):\n",
    "        self.category = category\n",
    "        self.year = year\n",
    "        self.winner = winner"
   ]
  },
  {
   "cell_type": "code",
   "execution_count": 102,
   "id": "972c4e32",
   "metadata": {},
   "outputs": [
    {
     "name": "stdout",
     "output_type": "stream",
     "text": [
      "Peace 2005 Muhammad Yunus\n"
     ]
    }
   ],
   "source": [
    "np2005=Nobel(\"Peace\", 2005, \"Muhammad Yunus\")\n",
    "print(np2005.category, np2005.year, np2005.winner)"
   ]
  },
  {
   "cell_type": "code",
   "execution_count": null,
   "id": "48bb33fb",
   "metadata": {},
   "outputs": [],
   "source": []
  }
 ],
 "metadata": {
  "kernelspec": {
   "display_name": "Python 3 (ipykernel)",
   "language": "python",
   "name": "python3"
  },
  "language_info": {
   "codemirror_mode": {
    "name": "ipython",
    "version": 3
   },
   "file_extension": ".py",
   "mimetype": "text/x-python",
   "name": "python",
   "nbconvert_exporter": "python",
   "pygments_lexer": "ipython3",
   "version": "3.9.7"
  }
 },
 "nbformat": 4,
 "nbformat_minor": 5
}

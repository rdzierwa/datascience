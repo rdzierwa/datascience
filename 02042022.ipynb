{
 "cells": [
  {
   "cell_type": "code",
   "execution_count": 1,
   "id": "77a795ac",
   "metadata": {},
   "outputs": [],
   "source": [
    "lst = [2,3,4]"
   ]
  },
  {
   "cell_type": "code",
   "execution_count": 9,
   "id": "1f5b8726",
   "metadata": {},
   "outputs": [
    {
     "data": {
      "text/plain": [
       "140518222224448"
      ]
     },
     "execution_count": 9,
     "metadata": {},
     "output_type": "execute_result"
    }
   ],
   "source": [
    "type(lst)\n",
    "id(lst)"
   ]
  },
  {
   "cell_type": "code",
   "execution_count": 5,
   "id": "5788fa5f",
   "metadata": {},
   "outputs": [],
   "source": [
    "lst[0]=2"
   ]
  },
  {
   "cell_type": "code",
   "execution_count": 49,
   "id": "3e15b637",
   "metadata": {},
   "outputs": [
    {
     "data": {
      "text/plain": [
       "140518222224448"
      ]
     },
     "execution_count": 49,
     "metadata": {},
     "output_type": "execute_result"
    }
   ],
   "source": [
    "id(lst)"
   ]
  },
  {
   "cell_type": "code",
   "execution_count": 12,
   "id": "0813c2a6",
   "metadata": {},
   "outputs": [
    {
     "data": {
      "text/plain": [
       "'test'"
      ]
     },
     "execution_count": 12,
     "metadata": {},
     "output_type": "execute_result"
    }
   ],
   "source": [
    "string"
   ]
  },
  {
   "cell_type": "code",
   "execution_count": 13,
   "id": "bc064d22",
   "metadata": {},
   "outputs": [
    {
     "data": {
      "text/plain": [
       "140518189186672"
      ]
     },
     "execution_count": 13,
     "metadata": {},
     "output_type": "execute_result"
    }
   ],
   "source": [
    "id(string)"
   ]
  },
  {
   "cell_type": "code",
   "execution_count": 32,
   "id": "4ffce3e6",
   "metadata": {},
   "outputs": [
    {
     "data": {
      "text/plain": [
       "'test'"
      ]
     },
     "execution_count": 32,
     "metadata": {},
     "output_type": "execute_result"
    }
   ],
   "source": [
    "string"
   ]
  },
  {
   "cell_type": "code",
   "execution_count": 48,
   "id": "659280ea",
   "metadata": {},
   "outputs": [
    {
     "data": {
      "text/plain": [
       "140518189186672"
      ]
     },
     "execution_count": 48,
     "metadata": {},
     "output_type": "execute_result"
    }
   ],
   "source": [
    "id(string)"
   ]
  },
  {
   "cell_type": "code",
   "execution_count": 50,
   "id": "1de31e9d",
   "metadata": {},
   "outputs": [],
   "source": [
    "lst.append(9)"
   ]
  },
  {
   "cell_type": "code",
   "execution_count": 51,
   "id": "02ec50ce",
   "metadata": {},
   "outputs": [
    {
     "data": {
      "text/plain": [
       "[2, 3, 4, 9]"
      ]
     },
     "execution_count": 51,
     "metadata": {},
     "output_type": "execute_result"
    }
   ],
   "source": [
    "lst"
   ]
  }
 ],
 "metadata": {
  "kernelspec": {
   "display_name": "Python 3 (ipykernel)",
   "language": "python",
   "name": "python3"
  },
  "language_info": {
   "codemirror_mode": {
    "name": "ipython",
    "version": 3
   },
   "file_extension": ".py",
   "mimetype": "text/x-python",
   "name": "python",
   "nbconvert_exporter": "python",
   "pygments_lexer": "ipython3",
   "version": "3.9.7"
  }
 },
 "nbformat": 4,
 "nbformat_minor": 5
}

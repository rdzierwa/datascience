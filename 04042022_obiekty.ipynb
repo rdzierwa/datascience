{
 "cells": [
  {
   "cell_type": "code",
   "execution_count": 1,
   "id": "2dc2ad52",
   "metadata": {},
   "outputs": [],
   "source": [
    "class BankAccount():\n",
    "    def __init__(self, name, stan=0):\n",
    "        self.name = name\n",
    "        self.stan = stan\n",
    "\n",
    "    def info(self):\n",
    "        print(f\"Nazwa konta:{self.name}\")\n",
    "        print(f\"Stan konta:{self.stan}\")\n",
    "\n",
    "    def pay_in(self, amount):\n",
    "        self.stan += amount\n",
    "\n",
    "    def pay_out(self, amount):\n",
    "        self.stan -= amount\n",
    "\n",
    "\n",
    "class DebetAccount(BankAccount):\n",
    "    def __init__(self,name, stan=0,limit=0):\n",
    "        super().__init__(name,stan)\n",
    "        self.limit = limit\n",
    "    def pay_out(self, amount):\n",
    "        if (self.stan - amount)<(-self.limit):\n",
    "            print(\"brak środków\")\n",
    "        else:\n",
    "            BankAccount.pay_out(self,amount)\n"
   ]
  },
  {
   "cell_type": "code",
   "execution_count": 2,
   "id": "6063d207",
   "metadata": {},
   "outputs": [],
   "source": [
    "            \n",
    "account = DebetAccount(\"USZATEK\",0,1000)"
   ]
  },
  {
   "cell_type": "code",
   "execution_count": 3,
   "id": "4aa67647",
   "metadata": {},
   "outputs": [],
   "source": [
    "account.pay_out(500)"
   ]
  },
  {
   "cell_type": "code",
   "execution_count": 4,
   "id": "254c93cb",
   "metadata": {},
   "outputs": [
    {
     "name": "stdout",
     "output_type": "stream",
     "text": [
      "Nazwa konta:USZATEK\n",
      "Stan konta:-500\n"
     ]
    }
   ],
   "source": [
    "account.info()"
   ]
  },
  {
   "cell_type": "code",
   "execution_count": 5,
   "id": "3aa4674c",
   "metadata": {},
   "outputs": [],
   "source": [
    "account.pay_in(4000)"
   ]
  },
  {
   "cell_type": "code",
   "execution_count": 6,
   "id": "6f462474",
   "metadata": {},
   "outputs": [],
   "source": [
    "import math"
   ]
  },
  {
   "cell_type": "code",
   "execution_count": 7,
   "id": "629aef48",
   "metadata": {},
   "outputs": [],
   "source": [
    "class Figura:\n",
    "    def obwod(self):  # L\n",
    "        \"\"\"Obliczanie obwodu.\"\"\"\n",
    "        raise NotImplementedError\n",
    "\n",
    "    def pole(self):  # S/P\n",
    "        \"\"\"Obliczanie pola powierzchni.\"\"\"\n",
    "        raise NotImplementedError"
   ]
  },
  {
   "cell_type": "code",
   "execution_count": 8,
   "id": "0c486969",
   "metadata": {},
   "outputs": [],
   "source": [
    "class Kolo(Figura):\n",
    "    def __init__(self, promien):\n",
    "        self.promien = promien\n",
    "    def obwod(self):\n",
    "        print(f\"Obwód koła: {2*math.pi*self.promien}\")\n",
    "    def pole(self):\n",
    "        print (f\"Pole Koła to: {math.pi*self.promien**2}\")\n",
    "        \n",
    "\n",
    "\n",
    "        "
   ]
  },
  {
   "cell_type": "code",
   "execution_count": 9,
   "id": "4dada92d",
   "metadata": {},
   "outputs": [],
   "source": [
    "licz_kolo = Kolo(4)"
   ]
  },
  {
   "cell_type": "code",
   "execution_count": 10,
   "id": "266f8e88",
   "metadata": {},
   "outputs": [
    {
     "name": "stdout",
     "output_type": "stream",
     "text": [
      "Obwód koła: 25.132741228718345\n"
     ]
    }
   ],
   "source": [
    "licz_kolo.obwod()"
   ]
  },
  {
   "cell_type": "code",
   "execution_count": 11,
   "id": "5be04bda",
   "metadata": {},
   "outputs": [
    {
     "name": "stdout",
     "output_type": "stream",
     "text": [
      "Pole Koła to: 50.26548245743669\n"
     ]
    }
   ],
   "source": [
    "licz_kolo.pole()"
   ]
  },
  {
   "cell_type": "code",
   "execution_count": 12,
   "id": "f6503f56",
   "metadata": {},
   "outputs": [],
   "source": [
    "class Trojkat(Figura):\n",
    "    def __init__(self, bok):\n",
    "        self.bok = bok\n",
    "    def obwod(self):\n",
    "        print(f\"Obwód Trójkąta: {3*self.bok}\")\n",
    "    def pole(self):\n",
    "        print (f\"Pole Trójkąta to: {(self.bok**2*math.sqrt(3))/4}\")\n",
    "        \n"
   ]
  },
  {
   "cell_type": "code",
   "execution_count": 13,
   "id": "a4738d13",
   "metadata": {},
   "outputs": [],
   "source": [
    "licz_trojkat = Trojkat(4)"
   ]
  },
  {
   "cell_type": "code",
   "execution_count": 14,
   "id": "9ea405ff",
   "metadata": {},
   "outputs": [
    {
     "name": "stdout",
     "output_type": "stream",
     "text": [
      "Pole Trójkąta to: 6.928203230275509\n",
      "Obwód Trójkąta: 12\n"
     ]
    }
   ],
   "source": [
    "licz_trojkat.pole()\n",
    "licz_trojkat.obwod()"
   ]
  },
  {
   "cell_type": "code",
   "execution_count": 15,
   "id": "4d00c060",
   "metadata": {},
   "outputs": [],
   "source": [
    "class Prostokat(Figura):\n",
    "    def __init__(self, bok_a, bok_b):\n",
    "        self.bok_a = bok_a\n",
    "        self.bok_b = bok_b\n",
    "        \n",
    "    def obwod(self):\n",
    "            print(f\"Obwód : {2*(self.bok_a+self.bok_b)}\")\n",
    "    def pole(self):\n",
    "            print (f\"Pole to: {self.bok_a*self.bok_b}\")"
   ]
  },
  {
   "cell_type": "code",
   "execution_count": 16,
   "id": "3dbf58f1",
   "metadata": {},
   "outputs": [],
   "source": [
    "licz_prostokat = Prostokat(2,5)"
   ]
  },
  {
   "cell_type": "code",
   "execution_count": 17,
   "id": "d59f1b4d",
   "metadata": {},
   "outputs": [
    {
     "name": "stdout",
     "output_type": "stream",
     "text": [
      "Pole to: 10\n",
      "Obwód : 14\n"
     ]
    }
   ],
   "source": [
    "licz_prostokat.pole()\n",
    "licz_prostokat.obwod()"
   ]
  },
  {
   "cell_type": "code",
   "execution_count": 18,
   "id": "86c616c5",
   "metadata": {},
   "outputs": [],
   "source": [
    "class Kwadrat(Prostokat):\n",
    "    def __init__(self, a):\n",
    "        self.bok_a = a\n",
    "        self.bok_b = a"
   ]
  },
  {
   "cell_type": "code",
   "execution_count": 19,
   "id": "4faec3e8",
   "metadata": {},
   "outputs": [],
   "source": [
    "licz_kwadrat = Kwadrat(5)"
   ]
  },
  {
   "cell_type": "code",
   "execution_count": 20,
   "id": "80ef7106",
   "metadata": {},
   "outputs": [
    {
     "name": "stdout",
     "output_type": "stream",
     "text": [
      "Obwód : 20\n",
      "Pole to: 25\n"
     ]
    }
   ],
   "source": [
    "licz_kwadrat.obwod()\n",
    "licz_kwadrat.pole()"
   ]
  },
  {
   "cell_type": "code",
   "execution_count": 21,
   "id": "65e75748",
   "metadata": {},
   "outputs": [],
   "source": [
    "class Rownoleglobok(Prostokat):\n",
    "    def __init__(self, a, b, h):\n",
    "        self.bok_a = a\n",
    "        self.bok_b = b\n",
    "        self.wysokosc = h\n",
    "    def pole(self):\n",
    "        self.bok_b = self.wysokosc\n",
    "        super().pole()\n",
    "\n",
    "        "
   ]
  },
  {
   "cell_type": "code",
   "execution_count": 22,
   "id": "7ed952e7",
   "metadata": {},
   "outputs": [],
   "source": [
    "licz_rownoleglobok = Rownoleglobok(3,4,3)"
   ]
  },
  {
   "cell_type": "code",
   "execution_count": 23,
   "id": "3431a288",
   "metadata": {},
   "outputs": [
    {
     "name": "stdout",
     "output_type": "stream",
     "text": [
      "Obwód : 14\n",
      "Pole to: 9\n"
     ]
    }
   ],
   "source": [
    "licz_rownoleglobok.obwod()\n",
    "licz_rownoleglobok.pole()"
   ]
  },
  {
   "cell_type": "code",
   "execution_count": 24,
   "id": "f819ea29",
   "metadata": {},
   "outputs": [],
   "source": [
    "class Trapez(Figura):\n",
    "    def __init__(self, a, b, d , c):\n",
    "        self.bok_a = a\n",
    "        self.bok_b = b\n",
    "        self.bok_c = math.sqrt(a**2+(a - b)**2)\n",
    "        self.wysokosc = d\n",
    "    def obwod(self):\n",
    "        print(f\"Obwód to: {self.bok_a + self.bok_b + self.bok_c + self.wysokosc}\")\n",
    "    def pole(self):\n",
    "        print(f\"Pole: {((self.bok_a + self.bok_b)/2)*self.wysokosc}\")"
   ]
  },
  {
   "cell_type": "code",
   "execution_count": 25,
   "id": "d9b552a0",
   "metadata": {},
   "outputs": [],
   "source": [
    "licz_trapez = Trapez(3,4,3,2)"
   ]
  },
  {
   "cell_type": "code",
   "execution_count": 26,
   "id": "fcae2af9",
   "metadata": {},
   "outputs": [
    {
     "name": "stdout",
     "output_type": "stream",
     "text": [
      "Obwód to: 13.16227766016838\n",
      "Pole: 10.5\n"
     ]
    }
   ],
   "source": [
    "licz_trapez.obwod()\n",
    "licz_trapez.pole()"
   ]
  },
  {
   "cell_type": "markdown",
   "id": "caa8ec24",
   "metadata": {},
   "source": [
    "# Ćwiczenie\n",
    "Utwórz obiekt klasy Bus, która dziedziczy wszystkie zmienne i metody klasy Vehicle i wyświetli je.\n",
    "Oczekiwany wynik:\n",
    "Nazwa pojazdu: Szkolne Volvo Prędkość: 180 Przebieg: 12\n",
    "\n",
    "Zdefiniuj atrybut klasy „color” z domyślną wartością biały. Oznacza to, że każdy Vehicle (pojazd) powinien być biały.\n",
    "Użyj poniższego kodu do tego ćwiczenia.\n",
    "\n",
    "Dane wejściowe:"
   ]
  },
  {
   "cell_type": "code",
   "execution_count": 27,
   "id": "a1f0a0e1",
   "metadata": {},
   "outputs": [],
   "source": [
    "class Vehicle:\n",
    "    color = \"biały\"\n",
    "    \n",
    "    def __init__(self, name, max_speed, mileage, capacity):\n",
    "        self.name = name\n",
    "        self.max_speed = max_speed\n",
    "        self.mileage = mileage\n",
    "        self.capacity = capacity\n",
    "        \n",
    "    def seating_capacity(self, capacity):\n",
    "        return f\"Liczba miejsc siedzących w {self.name} to {capacity} pasażerów\"\n",
    "    def fare(self):\n",
    "        return self.capacity * 100\n"
   ]
  },
  {
   "cell_type": "code",
   "execution_count": 28,
   "id": "622a2497",
   "metadata": {},
   "outputs": [],
   "source": [
    "class Bus(Vehicle):\n",
    "    def seating_capacity(self, capacity = 50):\n",
    "        return Vehicle.seating_capacity(self,capacity) # Klasa nie ma w domyśle self dla tego musimy go przekazać\n",
    "    def fare(self):\n",
    "        return super().fare() * 1.1\n",
    "class Car(Vehicle):\n",
    "    pass"
   ]
  },
  {
   "cell_type": "code",
   "execution_count": 29,
   "id": "9f6a13dc",
   "metadata": {},
   "outputs": [],
   "source": [
    "szkolne_volvo = Bus(\"Szkolne Volvo\", 180, 12,50)\n",
    "pojazd = Car(\"Audi Q5\", 240, 18, 2)\n"
   ]
  },
  {
   "cell_type": "code",
   "execution_count": 30,
   "id": "e265ca23",
   "metadata": {},
   "outputs": [
    {
     "name": "stdout",
     "output_type": "stream",
     "text": [
      "Nazwa pojazdu: Szkolne Volvo Prędkość: 180 Przebieg: 12\n",
      "Nazwa pojazdu: Szkolne Volvo Prędkość: 180 Przebieg: 12 Kolor: biały\n",
      "Nazwa pojazdu: Audi Q5 Prędkość: 240 Przebieg: 18 Kolor: biały\n"
     ]
    }
   ],
   "source": [
    "print (f\"Nazwa pojazdu: {szkolne_volvo.name} Prędkość: {szkolne_volvo.max_speed} Przebieg: {szkolne_volvo.mileage}\")\n",
    "print (f\"Nazwa pojazdu: {szkolne_volvo.name} Prędkość: {szkolne_volvo.max_speed} Przebieg: {szkolne_volvo.mileage} Kolor: {szkolne_volvo.color}\")\n",
    "print (f\"Nazwa pojazdu: {pojazd.name} Prędkość: {pojazd.max_speed} Przebieg: {pojazd.mileage} Kolor: {pojazd.color}\")"
   ]
  },
  {
   "cell_type": "code",
   "execution_count": 31,
   "id": "cf34d4b6",
   "metadata": {},
   "outputs": [
    {
     "data": {
      "text/plain": [
       "5500.0"
      ]
     },
     "execution_count": 31,
     "metadata": {},
     "output_type": "execute_result"
    }
   ],
   "source": [
    "szkolne_volvo.fare()"
   ]
  },
  {
   "cell_type": "code",
   "execution_count": 37,
   "id": "76689f51",
   "metadata": {},
   "outputs": [],
   "source": [
    "class Rectangle:\n",
    "    def __init__(self, width, lenght):\n",
    "        self.width = width\n",
    "        self.lenght = lenght\n",
    "    def perimeter(self):\n",
    "        return 2*(self.width + self.lenght)\n",
    "    def area(self):\n",
    "        return (self.width * self.lenght)\n",
    "    def display(self):\n",
    "        print(f\"Długość: {self.width} Szerokość: {self.lenght} ich Powierchnia to: {self.area()} Pole to: {self.perimeter()}\")"
   ]
  },
  {
   "cell_type": "code",
   "execution_count": 38,
   "id": "6135debf",
   "metadata": {},
   "outputs": [
    {
     "name": "stdout",
     "output_type": "stream",
     "text": [
      "Długość: 3 Szerokość: 4 ich Powierchnia to: 12 Pole to: 14\n"
     ]
    }
   ],
   "source": [
    "p = Rectangle(3,4)\n",
    "p.display()\n"
   ]
  },
  {
   "cell_type": "markdown",
   "id": "77179a64",
   "metadata": {},
   "source": [
    "> Utwórz klasę potomną Parallelepipede dziedziczącą po klasie Rectangle oraz z atrybutem wysokości (height) i metodą volume() w celu obliczenia objętości równoległościanu (Parallelepipede)."
   ]
  },
  {
   "cell_type": "code",
   "execution_count": 58,
   "id": "847e949f",
   "metadata": {},
   "outputs": [],
   "source": [
    "class Parallelepipede(Rectangle):\n",
    "    def __init__(self,length, height,width):\n",
    "        self.height = height\n",
    "        self.lenght = length\n",
    "        self.width = width\n",
    "    def volume(self):\n",
    "        return super().area() * self.height\n",
    "        "
   ]
  },
  {
   "cell_type": "code",
   "execution_count": 59,
   "id": "3e1d8d67",
   "metadata": {},
   "outputs": [],
   "source": [
    "rownoleglobok = Parallelepipede(3,4,5)"
   ]
  },
  {
   "cell_type": "code",
   "execution_count": 60,
   "id": "464b766c",
   "metadata": {},
   "outputs": [
    {
     "name": "stdout",
     "output_type": "stream",
     "text": [
      "60\n"
     ]
    }
   ],
   "source": [
    "print(rownoleglobok.volume())"
   ]
  },
  {
   "cell_type": "code",
   "execution_count": null,
   "id": "8f8c7bc4",
   "metadata": {},
   "outputs": [],
   "source": []
  }
 ],
 "metadata": {
  "kernelspec": {
   "display_name": "Python 3 (ipykernel)",
   "language": "python",
   "name": "python3"
  },
  "language_info": {
   "codemirror_mode": {
    "name": "ipython",
    "version": 3
   },
   "file_extension": ".py",
   "mimetype": "text/x-python",
   "name": "python",
   "nbconvert_exporter": "python",
   "pygments_lexer": "ipython3",
   "version": "3.9.7"
  }
 },
 "nbformat": 4,
 "nbformat_minor": 5
}

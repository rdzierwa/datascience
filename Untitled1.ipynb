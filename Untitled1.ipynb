{
 "cells": [
  {
   "cell_type": "code",
   "execution_count": 1,
   "id": "c4eac70b",
   "metadata": {},
   "outputs": [],
   "source": [
    "import os"
   ]
  },
  {
   "cell_type": "code",
   "execution_count": 4,
   "id": "49150ab4",
   "metadata": {},
   "outputs": [],
   "source": [
    "t = os.getcwd()"
   ]
  },
  {
   "cell_type": "code",
   "execution_count": 8,
   "id": "fae846b3",
   "metadata": {},
   "outputs": [
    {
     "data": {
      "text/plain": [
       "['hello.py',\n",
       " 'Untitled1.ipynb',\n",
       " '21032022.py',\n",
       " '26032022.py',\n",
       " 'Untitled.ipynb',\n",
       " '26032022_file.py',\n",
       " '23032022.py',\n",
       " '.gitignore',\n",
       " '26032022_exception.py',\n",
       " 'text.txt',\n",
       " '.ipynb_checkpoints',\n",
       " 'venv',\n",
       " '.git',\n",
       " 'main.py',\n",
       " '.idea']"
      ]
     },
     "execution_count": 8,
     "metadata": {},
     "output_type": "execute_result"
    }
   ],
   "source": [
    "x = os.listdir(t)\n",
    "x"
   ]
  },
  {
   "cell_type": "code",
   "execution_count": 17,
   "id": "9d2e0716",
   "metadata": {},
   "outputs": [
    {
     "name": "stdout",
     "output_type": "stream",
     "text": [
      "hello.py\n",
      "21032022.py\n",
      "26032022.py\n",
      "26032022_file.py\n",
      "23032022.py\n",
      "26032022_exception.py\n",
      "main.py\n"
     ]
    }
   ],
   "source": [
    "for file in x:\n",
    "    if file[-2:len(file)] == \"py\":\n",
    "        print(file)"
   ]
  },
  {
   "cell_type": "code",
   "execution_count": 22,
   "id": "363d972a",
   "metadata": {},
   "outputs": [],
   "source": [
    "t = open('test.txt','r')"
   ]
  },
  {
   "cell_type": "code",
   "execution_count": 23,
   "id": "56e6ea86",
   "metadata": {},
   "outputs": [
    {
     "data": {
      "text/plain": [
       "4"
      ]
     },
     "execution_count": 23,
     "metadata": {},
     "output_type": "execute_result"
    }
   ],
   "source": [
    "t.seek(4,0)"
   ]
  },
  {
   "cell_type": "code",
   "execution_count": 24,
   "id": "9b00f736-df17-44e3-8b3d-fd170d144aa0",
   "metadata": {},
   "outputs": [],
   "source": [
    "x = t.readlines()"
   ]
  },
  {
   "cell_type": "code",
   "execution_count": 25,
   "id": "535992f1-d54f-4de8-a622-5883826634fd",
   "metadata": {},
   "outputs": [],
   "source": [
    "z = open('writes.txt','w')"
   ]
  },
  {
   "cell_type": "code",
   "execution_count": 26,
   "id": "bf76b594-d9ec-4288-988a-9f9b77954224",
   "metadata": {},
   "outputs": [],
   "source": [
    "z.writelines(x)"
   ]
  },
  {
   "cell_type": "code",
   "execution_count": 27,
   "id": "243f3dc6-ba9c-4e86-baac-9eafb4163522",
   "metadata": {},
   "outputs": [],
   "source": [
    "z.close()"
   ]
  }
 ],
 "metadata": {
  "kernelspec": {
   "display_name": "Python 3 (ipykernel)",
   "language": "python",
   "name": "python3"
  },
  "language_info": {
   "codemirror_mode": {
    "name": "ipython",
    "version": 3
   },
   "file_extension": ".py",
   "mimetype": "text/x-python",
   "name": "python",
   "nbconvert_exporter": "python",
   "pygments_lexer": "ipython3",
   "version": "3.9.7"
  }
 },
 "nbformat": 4,
 "nbformat_minor": 5
}

{
 "cells": [
  {
   "cell_type": "code",
   "execution_count": 1,
   "id": "1654ecdc-bc92-418a-b018-40b1276a3f34",
   "metadata": {},
   "outputs": [],
   "source": [
    "sample_set = {\"Żółty\", \"Pomarańczowy\", \"Czarny\"}\n",
    "sample_list = [\"Niebieski\", \"Zielony\", \"Czerwony\"]"
   ]
  },
  {
   "cell_type": "code",
   "execution_count": null,
   "id": "03e5ba48-e5fc-4153-b697-f78f9a6a4257",
   "metadata": {},
   "outputs": [],
   "source": [
    "\n"
   ]
  },
  {
   "cell_type": "code",
   "execution_count": 2,
   "id": "2fb224e8-bbba-4ce5-8c7c-0e5f0228ccca",
   "metadata": {},
   "outputs": [
    {
     "data": {
      "text/plain": [
       "{'Czarny', 'Czerwony', 'Niebieski', 'Pomarańczowy', 'Zielony', 'Żółty'}"
      ]
     },
     "execution_count": 2,
     "metadata": {},
     "output_type": "execute_result"
    }
   ],
   "source": [
    "sample_set.update(sample_list)\n",
    "sample_set"
   ]
  },
  {
   "cell_type": "code",
   "execution_count": null,
   "id": "fea28649-02f5-4afb-bd3e-8ad4bcc1a844",
   "metadata": {},
   "outputs": [],
   "source": [
    "with x = open('sonety.txt','r'):\n",
    "    x."
   ]
  }
 ],
 "metadata": {
  "kernelspec": {
   "display_name": "scienceenv",
   "language": "python",
   "name": "scienceenv"
  },
  "language_info": {
   "codemirror_mode": {
    "name": "ipython",
    "version": 3
   },
   "file_extension": ".py",
   "mimetype": "text/x-python",
   "name": "python",
   "nbconvert_exporter": "python",
   "pygments_lexer": "ipython3",
   "version": "3.9.12"
  }
 },
 "nbformat": 4,
 "nbformat_minor": 5
}

{
 "cells": [
  {
   "cell_type": "code",
   "execution_count": 6,
   "id": "86ea3735",
   "metadata": {},
   "outputs": [],
   "source": [
    "import numpy as np\n",
    "import timeit"
   ]
  },
  {
   "cell_type": "code",
   "execution_count": 7,
   "id": "4360d827",
   "metadata": {},
   "outputs": [
    {
     "data": {
      "text/plain": [
       "0.16259778099993127"
      ]
     },
     "execution_count": 7,
     "metadata": {},
     "output_type": "execute_result"
    }
   ],
   "source": [
    "timeit.timeit('\"-\".join(str(n) for n in range(100))', number=10000)"
   ]
  },
  {
   "cell_type": "code",
   "execution_count": 8,
   "id": "fe41351e",
   "metadata": {},
   "outputs": [],
   "source": [
    "l =[1,\"2\", True, 3.0, None]"
   ]
  },
  {
   "cell_type": "code",
   "execution_count": 9,
   "id": "366cc205",
   "metadata": {},
   "outputs": [
    {
     "data": {
      "text/plain": [
       "[int, str, bool, float, NoneType]"
      ]
     },
     "execution_count": 9,
     "metadata": {},
     "output_type": "execute_result"
    }
   ],
   "source": [
    "[type(item) for item in l]"
   ]
  },
  {
   "cell_type": "code",
   "execution_count": 10,
   "id": "3ab652cc",
   "metadata": {},
   "outputs": [
    {
     "data": {
      "text/plain": [
       "array([1, 2, 3, 4, 5])"
      ]
     },
     "execution_count": 10,
     "metadata": {},
     "output_type": "execute_result"
    }
   ],
   "source": [
    "np.array([1,2,3,4,5])"
   ]
  },
  {
   "cell_type": "code",
   "execution_count": 11,
   "id": "538b6bed",
   "metadata": {},
   "outputs": [
    {
     "data": {
      "text/plain": [
       "array([4.1, 2. , 3. , 4. , 5. ])"
      ]
     },
     "execution_count": 11,
     "metadata": {},
     "output_type": "execute_result"
    }
   ],
   "source": [
    "np.array([4.1,2,3,4,5])"
   ]
  },
  {
   "cell_type": "code",
   "execution_count": 15,
   "id": "9bff28f0",
   "metadata": {},
   "outputs": [],
   "source": [
    "s = np.array([1,2,3,4,5,'t'])"
   ]
  },
  {
   "cell_type": "code",
   "execution_count": 16,
   "id": "e41c9879",
   "metadata": {},
   "outputs": [
    {
     "data": {
      "text/plain": [
       "[numpy.str_, numpy.str_, numpy.str_, numpy.str_, numpy.str_, numpy.str_]"
      ]
     },
     "execution_count": 16,
     "metadata": {},
     "output_type": "execute_result"
    }
   ],
   "source": [
    "[type(item) for item in s]"
   ]
  },
  {
   "cell_type": "code",
   "execution_count": 17,
   "id": "a7ed23a5",
   "metadata": {},
   "outputs": [
    {
     "data": {
      "text/plain": [
       "array([[2, 3, 4],\n",
       "       [4, 5, 6],\n",
       "       [6, 7, 8]])"
      ]
     },
     "execution_count": 17,
     "metadata": {},
     "output_type": "execute_result"
    }
   ],
   "source": [
    "np.array([range(i,i + 3) for i in [2,4,6]])"
   ]
  },
  {
   "cell_type": "code",
   "execution_count": 18,
   "id": "72a231de",
   "metadata": {},
   "outputs": [
    {
     "data": {
      "text/plain": [
       "array([0, 0, 0, 0, 0, 0, 0, 0, 0, 0])"
      ]
     },
     "execution_count": 18,
     "metadata": {},
     "output_type": "execute_result"
    }
   ],
   "source": [
    "np.zeros(10, dtype=int)"
   ]
  },
  {
   "cell_type": "code",
   "execution_count": 19,
   "id": "8912e51a",
   "metadata": {},
   "outputs": [
    {
     "data": {
      "text/plain": [
       "array([[1., 1., 1.],\n",
       "       [1., 1., 1.],\n",
       "       [1., 1., 1.],\n",
       "       [1., 1., 1.],\n",
       "       [1., 1., 1.]])"
      ]
     },
     "execution_count": 19,
     "metadata": {},
     "output_type": "execute_result"
    }
   ],
   "source": [
    "np.ones((5,3), dtype=float)"
   ]
  },
  {
   "cell_type": "code",
   "execution_count": 20,
   "id": "cc2f2bff",
   "metadata": {},
   "outputs": [
    {
     "data": {
      "text/plain": [
       "array([ 0,  2,  4,  6,  8, 10, 12, 14, 16, 18])"
      ]
     },
     "execution_count": 20,
     "metadata": {},
     "output_type": "execute_result"
    }
   ],
   "source": [
    "np.arange(0,20,2)"
   ]
  },
  {
   "cell_type": "code",
   "execution_count": 37,
   "id": "deeadf6d",
   "metadata": {},
   "outputs": [
    {
     "data": {
      "text/plain": [
       "array([[-1.15815833, -0.49636909, -0.04707202],\n",
       "       [-2.71514753,  0.04620521,  1.82140491],\n",
       "       [-0.76663724, -1.5722221 ,  0.81309383]])"
      ]
     },
     "execution_count": 37,
     "metadata": {},
     "output_type": "execute_result"
    }
   ],
   "source": [
    "np.random.normal(0,1,(3,3))"
   ]
  },
  {
   "cell_type": "code",
   "execution_count": 25,
   "id": "f2c58ca0",
   "metadata": {},
   "outputs": [
    {
     "data": {
      "text/plain": [
       "array([[9, 6, 2, 1, 8],\n",
       "       [1, 5, 2, 4, 3],\n",
       "       [3, 9, 0, 5, 7],\n",
       "       [0, 5, 0, 6, 6]])"
      ]
     },
     "execution_count": 25,
     "metadata": {},
     "output_type": "execute_result"
    }
   ],
   "source": [
    "# Tablica o wymiarach 4 na 5 liczby całkowite wylosowane z przedziału [0,10)\n",
    "np.random.randint(0,10,(4,5))"
   ]
  },
  {
   "cell_type": "markdown",
   "id": "b0d35331",
   "metadata": {},
   "source": [
    "https://numpy.org/doc/stable/user/basics.types.html\n"
   ]
  },
  {
   "cell_type": "code",
   "execution_count": 43,
   "id": "56d866e9",
   "metadata": {},
   "outputs": [],
   "source": [
    "x = np.random.randint(100, size=(2,3,4))"
   ]
  },
  {
   "cell_type": "code",
   "execution_count": 44,
   "id": "92289311",
   "metadata": {},
   "outputs": [
    {
     "data": {
      "text/plain": [
       "array([[[98, 19, 44, 49],\n",
       "        [83, 85, 45, 27],\n",
       "        [38, 80, 70, 53]],\n",
       "\n",
       "       [[83, 19, 90, 88],\n",
       "        [99, 51, 81, 96],\n",
       "        [10, 45, 15,  3]]])"
      ]
     },
     "execution_count": 44,
     "metadata": {},
     "output_type": "execute_result"
    }
   ],
   "source": [
    "x"
   ]
  },
  {
   "cell_type": "code",
   "execution_count": 45,
   "id": "ed914922",
   "metadata": {},
   "outputs": [
    {
     "name": "stdout",
     "output_type": "stream",
     "text": [
      "x ndim: 3\n",
      "x ndim: (2, 3, 4)\n",
      "x ndim: 24\n"
     ]
    }
   ],
   "source": [
    "print(f\"x ndim: {x.ndim}\") #liczba wymiarów\n",
    "print(f\"x ndim: {x.shape}\") #wymiar tablicy\n",
    "print(f\"x ndim: {x.size}\") #całkowity rozmiar tablicy\n"
   ]
  },
  {
   "cell_type": "code",
   "execution_count": 47,
   "id": "8b91be91",
   "metadata": {},
   "outputs": [
    {
     "name": "stdout",
     "output_type": "stream",
     "text": [
      " typ talicy dtype: int64\n"
     ]
    }
   ],
   "source": [
    "print(f\" typ talicy dtype: {x.dtype}\")"
   ]
  },
  {
   "cell_type": "code",
   "execution_count": 48,
   "id": "717460ad",
   "metadata": {},
   "outputs": [
    {
     "name": "stdout",
     "output_type": "stream",
     "text": [
      "itemsize: 8 bytes\n",
      "nbytes: 192 bytes\n"
     ]
    }
   ],
   "source": [
    "print(f\"itemsize: {x.itemsize} bytes\")  # rozmiar jednego elementu\n",
    "print(f\"nbytes: {x.nbytes} bytes\")  # rozmiar całej tablicy (itemsize x size)"
   ]
  },
  {
   "cell_type": "code",
   "execution_count": 51,
   "id": "650fc3b1",
   "metadata": {},
   "outputs": [
    {
     "data": {
      "text/plain": [
       "array([0, 1, 2, 3, 4, 5, 6, 7, 8, 9])"
      ]
     },
     "execution_count": 51,
     "metadata": {},
     "output_type": "execute_result"
    }
   ],
   "source": [
    "y = np.arange(0,10)\n",
    "y"
   ]
  },
  {
   "cell_type": "code",
   "execution_count": 50,
   "id": "91163d5d",
   "metadata": {},
   "outputs": [
    {
     "data": {
      "text/plain": [
       "5"
      ]
     },
     "execution_count": 50,
     "metadata": {},
     "output_type": "execute_result"
    }
   ],
   "source": [
    "y[5]"
   ]
  },
  {
   "cell_type": "code",
   "execution_count": 56,
   "id": "d36c46e4",
   "metadata": {},
   "outputs": [
    {
     "data": {
      "text/plain": [
       "array([[[98, 19, 44, 49],\n",
       "        [83, 85, 45, 27],\n",
       "        [38, 80, 70, 53]],\n",
       "\n",
       "       [[83, 19, 90, 88],\n",
       "        [99, 51, 81, 96],\n",
       "        [10, 45, 15,  3]]])"
      ]
     },
     "execution_count": 56,
     "metadata": {},
     "output_type": "execute_result"
    }
   ],
   "source": [
    "x\n"
   ]
  },
  {
   "cell_type": "code",
   "execution_count": 59,
   "id": "65bc8561",
   "metadata": {},
   "outputs": [
    {
     "data": {
      "text/plain": [
       "83"
      ]
     },
     "execution_count": 59,
     "metadata": {},
     "output_type": "execute_result"
    }
   ],
   "source": [
    "x[0][1][0]"
   ]
  },
  {
   "cell_type": "code",
   "execution_count": 64,
   "id": "0aeccdbe",
   "metadata": {},
   "outputs": [],
   "source": [
    "x[0][1][0:2] = 44 "
   ]
  },
  {
   "cell_type": "code",
   "execution_count": 65,
   "id": "310d4137",
   "metadata": {},
   "outputs": [
    {
     "data": {
      "text/plain": [
       "array([[[98, 19, 44, 49],\n",
       "        [44, 44, 45, 27],\n",
       "        [38, 80, 70, 53]],\n",
       "\n",
       "       [[83, 19, 90, 88],\n",
       "        [99, 51, 81, 96],\n",
       "        [10, 45, 15,  3]]])"
      ]
     },
     "execution_count": 65,
     "metadata": {},
     "output_type": "execute_result"
    }
   ],
   "source": [
    "x"
   ]
  },
  {
   "cell_type": "code",
   "execution_count": 63,
   "id": "fc3114bc",
   "metadata": {},
   "outputs": [
    {
     "data": {
      "text/plain": [
       "array([0, 1, 2, 3, 4])"
      ]
     },
     "execution_count": 63,
     "metadata": {},
     "output_type": "execute_result"
    }
   ],
   "source": [
    "y[:5]"
   ]
  },
  {
   "cell_type": "code",
   "execution_count": 66,
   "id": "014edd41",
   "metadata": {},
   "outputs": [
    {
     "data": {
      "text/plain": [
       "array([9, 8, 7, 6, 5, 4, 3, 2, 1, 0])"
      ]
     },
     "execution_count": 66,
     "metadata": {},
     "output_type": "execute_result"
    }
   ],
   "source": [
    "y[::-1] # od tyłu tablica"
   ]
  },
  {
   "cell_type": "code",
   "execution_count": 67,
   "id": "992d23a6",
   "metadata": {},
   "outputs": [
    {
     "data": {
      "text/plain": [
       "array([[[98, 19, 44, 49],\n",
       "        [44, 44, 45, 27],\n",
       "        [38, 80, 70, 53]],\n",
       "\n",
       "       [[83, 19, 90, 88],\n",
       "        [99, 51, 81, 96],\n",
       "        [10, 45, 15,  3]]])"
      ]
     },
     "execution_count": 67,
     "metadata": {},
     "output_type": "execute_result"
    }
   ],
   "source": [
    "x"
   ]
  },
  {
   "cell_type": "code",
   "execution_count": 68,
   "id": "01ec4310",
   "metadata": {},
   "outputs": [
    {
     "data": {
      "text/plain": [
       "array([[[98, 19, 44],\n",
       "        [44, 44, 45],\n",
       "        [38, 80, 70]]])"
      ]
     },
     "execution_count": 68,
     "metadata": {},
     "output_type": "execute_result"
    }
   ],
   "source": [
    "x[:1,:,:3] # pierwszy podaje która tablica,:1 to jest do 1 ale bez 1, : to wszystkie argumenty z danego wymiaru, :3 od 0 do 3 ale bez 3."
   ]
  },
  {
   "cell_type": "code",
   "execution_count": 69,
   "id": "06436f5f",
   "metadata": {},
   "outputs": [
    {
     "data": {
      "text/plain": [
       "[3]"
      ]
     },
     "execution_count": 69,
     "metadata": {},
     "output_type": "execute_result"
    }
   ],
   "source": [
    "l1 = [1,2,3]\n",
    "l2 = l1[2:] # to już generuje nową tablicę, czyli slice robi nową\n",
    "l2"
   ]
  },
  {
   "cell_type": "code",
   "execution_count": 70,
   "id": "940082a7",
   "metadata": {},
   "outputs": [],
   "source": [
    "l2 = 4"
   ]
  },
  {
   "cell_type": "code",
   "execution_count": 71,
   "id": "225075db",
   "metadata": {},
   "outputs": [
    {
     "data": {
      "text/plain": [
       "4"
      ]
     },
     "execution_count": 71,
     "metadata": {},
     "output_type": "execute_result"
    }
   ],
   "source": [
    "l2"
   ]
  },
  {
   "cell_type": "code",
   "execution_count": 72,
   "id": "32d0f4e3",
   "metadata": {},
   "outputs": [],
   "source": [
    "l3 = l1 # uwaga takie przypisanie napisze równierz l1 jeśli zmienimy coś w l3 !!!"
   ]
  },
  {
   "cell_type": "code",
   "execution_count": 77,
   "id": "f70308b9",
   "metadata": {},
   "outputs": [],
   "source": [
    "l3[2]=5"
   ]
  },
  {
   "cell_type": "code",
   "execution_count": 78,
   "id": "1a0c5058",
   "metadata": {},
   "outputs": [
    {
     "data": {
      "text/plain": [
       "[1, 2, 5]"
      ]
     },
     "execution_count": 78,
     "metadata": {},
     "output_type": "execute_result"
    }
   ],
   "source": [
    "l1"
   ]
  },
  {
   "cell_type": "code",
   "execution_count": 80,
   "id": "98928ec7",
   "metadata": {},
   "outputs": [
    {
     "data": {
      "text/plain": [
       "[1, 2, 5]"
      ]
     },
     "execution_count": 80,
     "metadata": {},
     "output_type": "execute_result"
    }
   ],
   "source": [
    "l3"
   ]
  },
  {
   "cell_type": "code",
   "execution_count": 81,
   "id": "dfa31720",
   "metadata": {},
   "outputs": [],
   "source": [
    "x = np.zeros((2,3))"
   ]
  },
  {
   "cell_type": "code",
   "execution_count": 82,
   "id": "9eb5d5cb",
   "metadata": {},
   "outputs": [
    {
     "name": "stdout",
     "output_type": "stream",
     "text": [
      "[[1. 0. 0.]\n",
      " [0. 0. 0.]]\n",
      "[1. 0. 0.]\n"
     ]
    }
   ],
   "source": [
    "x = np.zeros((2, 3))\n",
    "y = x[0, :]\n",
    "y[0] = 1\n",
    "print(x)  # x i y reprezentują tą samą tablicę!\n",
    "print(y)  # x i y reprezentują tą samą tablicę!"
   ]
  },
  {
   "cell_type": "code",
   "execution_count": 83,
   "id": "c631f7f2",
   "metadata": {},
   "outputs": [
    {
     "name": "stdout",
     "output_type": "stream",
     "text": [
      "[[1. 0. 0.]\n",
      " [0. 0. 0.]]\n",
      "[[42.  0.]\n",
      " [ 0.  0.]]\n"
     ]
    }
   ],
   "source": [
    "x_copy = x[:2, :2].copy()\n",
    "x_copy[0, 0] = 42\n",
    "\n",
    "print(x)\n",
    "print(x_copy)  # zmiana x_copy nie zmieniła x"
   ]
  },
  {
   "cell_type": "code",
   "execution_count": 84,
   "id": "59d4ab69",
   "metadata": {},
   "outputs": [
    {
     "data": {
      "text/plain": [
       "array([[1., 0., 0.],\n",
       "       [0., 0., 0.]])"
      ]
     },
     "execution_count": 84,
     "metadata": {},
     "output_type": "execute_result"
    }
   ],
   "source": [
    "x"
   ]
  },
  {
   "cell_type": "code",
   "execution_count": 85,
   "id": "4d9f406c",
   "metadata": {},
   "outputs": [
    {
     "data": {
      "text/plain": [
       "array([1., 0., 0.])"
      ]
     },
     "execution_count": 85,
     "metadata": {},
     "output_type": "execute_result"
    }
   ],
   "source": [
    "y"
   ]
  },
  {
   "cell_type": "code",
   "execution_count": 90,
   "id": "77aafc96",
   "metadata": {},
   "outputs": [
    {
     "data": {
      "text/plain": [
       "array([[ 1,  2,  3,  4],\n",
       "       [ 5,  6,  7,  8],\n",
       "       [ 9, 10, 11, 12],\n",
       "       [13, 14, 15, 16]])"
      ]
     },
     "execution_count": 90,
     "metadata": {},
     "output_type": "execute_result"
    }
   ],
   "source": [
    "np.arange(1,17).reshape((4,4))"
   ]
  },
  {
   "cell_type": "code",
   "execution_count": 93,
   "id": "e20f41fd",
   "metadata": {},
   "outputs": [
    {
     "name": "stdout",
     "output_type": "stream",
     "text": [
      "[1 2 3]\n",
      "[[1 2 3]]\n",
      "[[1]\n",
      " [2]\n",
      " [3]]\n"
     ]
    }
   ],
   "source": [
    "x = np.array([1, 2, 3])\n",
    "print(x)\n",
    "print(x.reshape((1, 3))) # dwuwymiarowa tablica z jednym wierszem i trzema kolumnami\n",
    "print(x.reshape((3, 1))) # dwuwymiarowa tablica z trzema wierszami i jedną kolumną"
   ]
  },
  {
   "cell_type": "code",
   "execution_count": 94,
   "id": "e6e338c7",
   "metadata": {},
   "outputs": [
    {
     "data": {
      "text/plain": [
       "array([1, 2, 3, 3, 2, 1])"
      ]
     },
     "execution_count": 94,
     "metadata": {},
     "output_type": "execute_result"
    }
   ],
   "source": [
    "x = np.array([1, 2, 3])\n",
    "y = np.array([3, 2, 1])\n",
    "np.concatenate([x, y]) #łączenie tablic, należy podać w []"
   ]
  },
  {
   "cell_type": "code",
   "execution_count": 100,
   "id": "a96ab8dd",
   "metadata": {},
   "outputs": [],
   "source": [
    "grid = np.array([[1,2,3],\n",
    "                [4,5,6],\n",
    "                [7,8,9]])"
   ]
  },
  {
   "cell_type": "code",
   "execution_count": 101,
   "id": "c0b93cf1",
   "metadata": {},
   "outputs": [
    {
     "name": "stdout",
     "output_type": "stream",
     "text": [
      "[[1 2 3]\n",
      " [4 5 6]\n",
      " [7 8 9]\n",
      " [1 2 3]\n",
      " [4 5 6]\n",
      " [7 8 9]]\n"
     ]
    }
   ],
   "source": [
    "print(np.concatenate([grid, grid]))\n"
   ]
  },
  {
   "cell_type": "code",
   "execution_count": 104,
   "id": "6a429624",
   "metadata": {},
   "outputs": [
    {
     "name": "stdout",
     "output_type": "stream",
     "text": [
      "[[1 2 3 1 2 3]\n",
      " [4 5 6 4 5 6]\n",
      " [7 8 9 7 8 9]]\n"
     ]
    }
   ],
   "source": [
    "print(np.concatenate([grid, grid], axis=1))  # łączenie wzdłuż drugiego wymiaru 0 lub 1 daje albo poziom albo pion"
   ]
  },
  {
   "cell_type": "code",
   "execution_count": 105,
   "id": "58d830f1",
   "metadata": {},
   "outputs": [],
   "source": [
    "x = np.array([1,2,3])"
   ]
  },
  {
   "cell_type": "code",
   "execution_count": 106,
   "id": "766bc6c5",
   "metadata": {},
   "outputs": [],
   "source": [
    "grid = np.array([[9,8,7],\n",
    "                [6,5,4]])"
   ]
  },
  {
   "cell_type": "code",
   "execution_count": 109,
   "id": "b46c6d97",
   "metadata": {},
   "outputs": [
    {
     "name": "stdout",
     "output_type": "stream",
     "text": [
      "[[1 2 3]\n",
      " [9 8 7]\n",
      " [6 5 4]]\n"
     ]
    }
   ],
   "source": [
    "print(np.vstack([x,grid]))"
   ]
  },
  {
   "cell_type": "code",
   "execution_count": 110,
   "id": "ac5334a7",
   "metadata": {},
   "outputs": [
    {
     "data": {
      "text/plain": [
       "array([[ 9,  8,  7, 99],\n",
       "       [ 6,  5,  4, 99]])"
      ]
     },
     "execution_count": 110,
     "metadata": {},
     "output_type": "execute_result"
    }
   ],
   "source": [
    "\n",
    "y = np.array([[99],\n",
    "              [99]])\n",
    "np.hstack([grid, y])"
   ]
  },
  {
   "cell_type": "code",
   "execution_count": 118,
   "id": "711a8373",
   "metadata": {},
   "outputs": [
    {
     "name": "stdout",
     "output_type": "stream",
     "text": [
      "[0 1] [2 3] [4 5 6 7 8 9]\n"
     ]
    }
   ],
   "source": [
    "x = np.arange(10)\n",
    "x1, x2, x3 = np.split(x, [2, 4]) # pierwsza wartość to do jakiej wartości jest end pierszej tablicy, a druga to od czego zaczynamy, przez co powstają 2 plus ewewntualnie jedna z niewybranymi\n",
    "\n",
    "print(x1, x2, x3)  # zauważ, że dwa punkty dzielenia tworzą trzy tablice"
   ]
  },
  {
   "cell_type": "code",
   "execution_count": 119,
   "id": "739e12d5",
   "metadata": {},
   "outputs": [],
   "source": [
    "def compute_reciprocals(values):\n",
    "    output = np.empty(len(values))\n",
    "    for i, value in enumerate(values):\n",
    "        output[i] = 1.0 / value\n",
    "    return output"
   ]
  },
  {
   "cell_type": "code",
   "execution_count": 120,
   "id": "a6132610",
   "metadata": {},
   "outputs": [],
   "source": [
    "values = np.random.randint(1, 10, size=5)"
   ]
  },
  {
   "cell_type": "code",
   "execution_count": 121,
   "id": "6c9db01c",
   "metadata": {},
   "outputs": [
    {
     "data": {
      "text/plain": [
       "array([0.11111111, 0.14285714, 0.16666667, 0.11111111, 0.2       ])"
      ]
     },
     "execution_count": 121,
     "metadata": {},
     "output_type": "execute_result"
    }
   ],
   "source": [
    "compute_reciprocals(values)"
   ]
  },
  {
   "cell_type": "code",
   "execution_count": 122,
   "id": "18fe61e8",
   "metadata": {},
   "outputs": [
    {
     "data": {
      "text/plain": [
       "array([0.11111111, 0.14285714, 0.16666667, 0.11111111, 0.2       ])"
      ]
     },
     "execution_count": 122,
     "metadata": {},
     "output_type": "execute_result"
    }
   ],
   "source": [
    "compute_reciprocals(values)"
   ]
  },
  {
   "cell_type": "code",
   "execution_count": 123,
   "id": "0ea62c5e",
   "metadata": {},
   "outputs": [],
   "source": [
    "big_array = np.random.randint(1, 100, size=1_000_000)"
   ]
  },
  {
   "cell_type": "code",
   "execution_count": 124,
   "id": "529f67d8",
   "metadata": {},
   "outputs": [
    {
     "name": "stdout",
     "output_type": "stream",
     "text": [
      "2.23 s ± 33.2 ms per loop (mean ± std. dev. of 7 runs, 1 loop each)\n"
     ]
    }
   ],
   "source": [
    "%timeit compute_reciprocals(big_array) # liczy średnią ważne że trzeba dać %- to wywoła kilka razy"
   ]
  },
  {
   "cell_type": "code",
   "execution_count": 125,
   "id": "7c5c887e",
   "metadata": {},
   "outputs": [
    {
     "name": "stdout",
     "output_type": "stream",
     "text": [
      "1.42 ms ± 18.5 µs per loop (mean ± std. dev. of 7 runs, 1,000 loops each)\n"
     ]
    }
   ],
   "source": [
    "%timeit 1.0 / big_array # wywołane wektorowo znacznie szybciej jak pracujemy wprowst na numpy a nie zwykłym loop"
   ]
  },
  {
   "cell_type": "code",
   "execution_count": 126,
   "id": "ce8edaf9",
   "metadata": {},
   "outputs": [],
   "source": [
    "t = 1.0 / big_array # uwaga big_array jest stworzony przez numpy !!!!"
   ]
  },
  {
   "cell_type": "code",
   "execution_count": 127,
   "id": "281f2ee3",
   "metadata": {},
   "outputs": [
    {
     "data": {
      "text/plain": [
       "array([0.01010101, 0.0106383 , 0.03225806, ..., 0.03225806, 0.08333333,\n",
       "       0.01149425])"
      ]
     },
     "execution_count": 127,
     "metadata": {},
     "output_type": "execute_result"
    }
   ],
   "source": [
    "t"
   ]
  },
  {
   "cell_type": "code",
   "execution_count": 134,
   "id": "3225461c",
   "metadata": {},
   "outputs": [],
   "source": [
    "x = np.arange(4)"
   ]
  },
  {
   "cell_type": "code",
   "execution_count": 135,
   "id": "54286b0a",
   "metadata": {},
   "outputs": [
    {
     "name": "stdout",
     "output_type": "stream",
     "text": [
      "x      = [0 1 2 3]\n",
      "x + 5  = [5 6 7 8]\n",
      "x - 5  = [-5 -4 -3 -2]\n",
      "x * 2  = [0 2 4 6]\n",
      "x / 2  = [0.  0.5 1.  1.5]\n",
      "x // 2 = [0 0 1 1]\n",
      "-x     = [ 0 -1 -2 -3]\n",
      "x ** 2 = [0 1 4 9]\n",
      "x % 2  = [0 1 0 1]\n"
     ]
    }
   ],
   "source": [
    "print(\"x      =\", x)\n",
    "print(\"x + 5  =\", x + 5)\n",
    "print(\"x - 5  =\", x - 5)\n",
    "print(\"x * 2  =\", x * 2)\n",
    "print(\"x / 2  =\", x / 2)\n",
    "print(\"x // 2 =\", x // 2)\n",
    "print(\"-x     =\", -x)\n",
    "print(\"x ** 2 =\", x ** 2)\n",
    "print(\"x % 2  =\", x % 2)"
   ]
  },
  {
   "cell_type": "code",
   "execution_count": 139,
   "id": "a7d15ae0",
   "metadata": {},
   "outputs": [
    {
     "name": "stdout",
     "output_type": "stream",
     "text": [
      "51.921853563725385 0.008798190610459278 0.9969575212514493 0.5192185356372538\n"
     ]
    }
   ],
   "source": [
    "L = np.random.random(100) # size tylko podajemy bo random.randol losuje 1 lub 0. 100 razy shift + tab pokazuje w jupyter co robi funkcja\n",
    "print(np.sum(L), np.min(L), np.max(L), np.average(L))"
   ]
  },
  {
   "cell_type": "code",
   "execution_count": 140,
   "id": "ebd4eb8b",
   "metadata": {},
   "outputs": [
    {
     "name": "stdout",
     "output_type": "stream",
     "text": [
      "3.85 µs ± 168 ns per loop (mean ± std. dev. of 7 runs, 100,000 loops each)\n",
      "7.28 µs ± 446 ns per loop (mean ± std. dev. of 7 runs, 100,000 loops each)\n"
     ]
    }
   ],
   "source": [
    "%timeit np.sum(L)\n",
    "%timeit sum(L)"
   ]
  },
  {
   "cell_type": "code",
   "execution_count": 165,
   "id": "35d4656f",
   "metadata": {},
   "outputs": [
    {
     "name": "stdout",
     "output_type": "stream",
     "text": [
      "[[[1 6 6 5]\n",
      "  [6 3 8 6]\n",
      "  [5 8 1 5]]\n",
      "\n",
      " [[9 6 8 9]\n",
      "  [4 5 0 6]\n",
      "  [2 9 0 5]]\n",
      "\n",
      " [[7 6 8 1]\n",
      "  [0 4 0 7]\n",
      "  [0 0 9 0]]\n",
      "\n",
      " [[3 4 4 1]\n",
      "  [1 7 2 0]\n",
      "  [1 2 4 3]]]\n"
     ]
    }
   ],
   "source": [
    "M = np.random.randint(10, size=(4,3, 4))\n",
    "print(M)"
   ]
  },
  {
   "cell_type": "code",
   "execution_count": 166,
   "id": "2e1d95e0",
   "metadata": {},
   "outputs": [
    {
     "name": "stdout",
     "output_type": "stream",
     "text": [
      "[[18 23 19]\n",
      " [32 15 16]\n",
      " [22 11  9]\n",
      " [12 10 10]]\n"
     ]
    }
   ],
   "source": [
    "\n",
    "print(M.sum(axis=2)) # sumy w kolumnach, przejdzie po wierszach ale sumuje w dół, odwrotnie split\n"
   ]
  },
  {
   "cell_type": "code",
   "execution_count": 167,
   "id": "3e1cdce5",
   "metadata": {},
   "outputs": [
    {
     "name": "stdout",
     "output_type": "stream",
     "text": [
      "[[1 3 1]\n",
      " [6 0 0]\n",
      " [1 0 0]\n",
      " [1 0 1]]\n"
     ]
    }
   ],
   "source": [
    "print(M.min(axis=2)) # suma idzie po wierszach ale szuka minium z kolumn np 9,8,2,4 to 2"
   ]
  },
  {
   "cell_type": "markdown",
   "id": "c80d7e48",
   "metadata": {},
   "source": [
    "https://www.sharpsightlabs.com/blog/numpy-axes-explained/"
   ]
  },
  {
   "cell_type": "code",
   "execution_count": 168,
   "id": "b4afeeb2",
   "metadata": {},
   "outputs": [
    {
     "name": "stdout",
     "output_type": "stream",
     "text": [
      "[[[6 7 6 2]\n",
      "  [9 2 1 2]\n",
      "  [6 5 5 9]]\n",
      "\n",
      " [[5 8 9 6]\n",
      "  [7 6 7 3]\n",
      "  [2 2 6 3]]]\n"
     ]
    }
   ],
   "source": [
    "M = np.random.randint(10, size=(2, 3, 4))\n",
    "print(M)"
   ]
  },
  {
   "cell_type": "code",
   "execution_count": 169,
   "id": "75948710",
   "metadata": {},
   "outputs": [
    {
     "name": "stdout",
     "output_type": "stream",
     "text": [
      "[[11 15 15  8]\n",
      " [16  8  8  5]\n",
      " [ 8  7 11 12]]\n"
     ]
    },
    {
     "data": {
      "text/plain": [
       "array([[6, 2, 1, 2],\n",
       "       [2, 2, 6, 3]])"
      ]
     },
     "execution_count": 169,
     "metadata": {},
     "output_type": "execute_result"
    }
   ],
   "source": [
    "print(M.sum(axis=0))\n",
    "M.min(axis=1)"
   ]
  },
  {
   "cell_type": "code",
   "execution_count": 174,
   "id": "2d166482",
   "metadata": {},
   "outputs": [],
   "source": [
    "x = np.array([1, 2, 3, 4, 5])"
   ]
  },
  {
   "cell_type": "code",
   "execution_count": 175,
   "id": "2d2bd512",
   "metadata": {},
   "outputs": [
    {
     "data": {
      "text/plain": [
       "array([ True,  True, False, False, False])"
      ]
     },
     "execution_count": 175,
     "metadata": {},
     "output_type": "execute_result"
    }
   ],
   "source": [
    "x < 3"
   ]
  },
  {
   "cell_type": "code",
   "execution_count": 176,
   "id": "0991e099",
   "metadata": {},
   "outputs": [
    {
     "data": {
      "text/plain": [
       "array([False, False, False,  True,  True])"
      ]
     },
     "execution_count": 176,
     "metadata": {},
     "output_type": "execute_result"
    }
   ],
   "source": [
    "x > 3"
   ]
  },
  {
   "cell_type": "code",
   "execution_count": 177,
   "id": "20112ce2",
   "metadata": {},
   "outputs": [
    {
     "data": {
      "text/plain": [
       "array([False, False,  True, False, False])"
      ]
     },
     "execution_count": 177,
     "metadata": {},
     "output_type": "execute_result"
    }
   ],
   "source": [
    "x == 3"
   ]
  },
  {
   "cell_type": "code",
   "execution_count": 178,
   "id": "a62b2c62",
   "metadata": {},
   "outputs": [],
   "source": [
    "x = np.random.randint(10, size=(4, 4))"
   ]
  },
  {
   "cell_type": "code",
   "execution_count": 179,
   "id": "358ba980",
   "metadata": {},
   "outputs": [
    {
     "data": {
      "text/plain": [
       "array([[9, 3, 4, 7],\n",
       "       [8, 3, 3, 3],\n",
       "       [5, 9, 2, 6],\n",
       "       [6, 8, 8, 8]])"
      ]
     },
     "execution_count": 179,
     "metadata": {},
     "output_type": "execute_result"
    }
   ],
   "source": [
    "x"
   ]
  },
  {
   "cell_type": "code",
   "execution_count": 180,
   "id": "61c1d139",
   "metadata": {},
   "outputs": [
    {
     "data": {
      "text/plain": [
       "7"
      ]
     },
     "execution_count": 180,
     "metadata": {},
     "output_type": "execute_result"
    }
   ],
   "source": [
    "np.count_nonzero(x < 6) #ile wartości jest mniejsze od 6"
   ]
  },
  {
   "cell_type": "code",
   "execution_count": 181,
   "id": "8ddd5e59",
   "metadata": {},
   "outputs": [
    {
     "data": {
      "text/plain": [
       "array([2, 3, 2, 0])"
      ]
     },
     "execution_count": 181,
     "metadata": {},
     "output_type": "execute_result"
    }
   ],
   "source": [
    "np.sum(x < 6, axis = 1) # ile wartości jest mniejsze od 6 ale wiersze ( dla 2ch wymiarów)"
   ]
  },
  {
   "cell_type": "code",
   "execution_count": 182,
   "id": "a165a8f5",
   "metadata": {},
   "outputs": [
    {
     "data": {
      "text/plain": [
       "array([1, 2, 3, 1])"
      ]
     },
     "execution_count": 182,
     "metadata": {},
     "output_type": "execute_result"
    }
   ],
   "source": [
    "np.sum(x < 6, axis = 0) #no i kolumnami jedziemy"
   ]
  },
  {
   "cell_type": "code",
   "execution_count": 185,
   "id": "10942e96",
   "metadata": {},
   "outputs": [
    {
     "data": {
      "text/plain": [
       "False"
      ]
     },
     "execution_count": 185,
     "metadata": {},
     "output_type": "execute_result"
    }
   ],
   "source": [
    "# Czy jest wartość mniejsza niż 0?\n",
    "np.any(x < 0)"
   ]
  },
  {
   "cell_type": "code",
   "execution_count": 186,
   "id": "ca8a2a96",
   "metadata": {},
   "outputs": [
    {
     "data": {
      "text/plain": [
       "array([[False,  True,  True, False],\n",
       "       [False,  True,  True,  True],\n",
       "       [False, False,  True, False],\n",
       "       [False, False, False, False]])"
      ]
     },
     "execution_count": 186,
     "metadata": {},
     "output_type": "execute_result"
    }
   ],
   "source": [
    "x < 5"
   ]
  },
  {
   "cell_type": "code",
   "execution_count": 187,
   "id": "14836a3b",
   "metadata": {},
   "outputs": [
    {
     "data": {
      "text/plain": [
       "array([3, 4, 3, 3, 3, 2])"
      ]
     },
     "execution_count": 187,
     "metadata": {},
     "output_type": "execute_result"
    }
   ],
   "source": [
    "x[x<5] # tam gdzie tru zwróci nam wartości z tego miejsca"
   ]
  },
  {
   "cell_type": "code",
   "execution_count": 188,
   "id": "d9260f79",
   "metadata": {},
   "outputs": [],
   "source": [
    "x = np.random.randint(100, size=10)"
   ]
  },
  {
   "cell_type": "code",
   "execution_count": 189,
   "id": "3dd24149",
   "metadata": {},
   "outputs": [
    {
     "data": {
      "text/plain": [
       "array([ 4, 44, 97, 92, 16, 27, 62, 35, 39, 64])"
      ]
     },
     "execution_count": 189,
     "metadata": {},
     "output_type": "execute_result"
    }
   ],
   "source": [
    "x"
   ]
  },
  {
   "cell_type": "code",
   "execution_count": 190,
   "id": "dbaf346c",
   "metadata": {},
   "outputs": [
    {
     "data": {
      "text/plain": [
       "array([92, 35, 97])"
      ]
     },
     "execution_count": 190,
     "metadata": {},
     "output_type": "execute_result"
    }
   ],
   "source": [
    "ind = [3,7,2] # podajemy indeksy w liscie\n",
    "x[ind] # poda wartości dla tych indeksów"
   ]
  },
  {
   "cell_type": "code",
   "execution_count": 191,
   "id": "ca7610fb",
   "metadata": {},
   "outputs": [
    {
     "data": {
      "text/plain": [
       "array([[92, 35],\n",
       "       [16, 27]])"
      ]
     },
     "execution_count": 191,
     "metadata": {},
     "output_type": "execute_result"
    }
   ],
   "source": [
    "# zrobimy z jednowymiarowej dwuwymiarową tablicę o wartościach z indeksów n\n",
    "ind = np.array([[3, 7],\n",
    "                [4, 5]])\n",
    "x[ind]"
   ]
  },
  {
   "cell_type": "code",
   "execution_count": 218,
   "id": "8b18c6dc",
   "metadata": {},
   "outputs": [],
   "source": [
    "x = np.random.randint(100, size=(5, 5))"
   ]
  },
  {
   "cell_type": "code",
   "execution_count": 219,
   "id": "e75d7c93",
   "metadata": {},
   "outputs": [
    {
     "data": {
      "text/plain": [
       "array([[26, 65, 64, 19, 15],\n",
       "       [92, 72, 72, 59, 54],\n",
       "       [82, 81, 88, 54, 44],\n",
       "       [32, 92, 82, 97, 73],\n",
       "       [62, 64, 92, 10, 45]])"
      ]
     },
     "execution_count": 219,
     "metadata": {},
     "output_type": "execute_result"
    }
   ],
   "source": [
    "x"
   ]
  },
  {
   "cell_type": "code",
   "execution_count": 220,
   "id": "ce528fe8",
   "metadata": {},
   "outputs": [
    {
     "data": {
      "text/plain": [
       "array([82, 81, 88])"
      ]
     },
     "execution_count": 220,
     "metadata": {},
     "output_type": "execute_result"
    }
   ],
   "source": [
    "x[2, [0, 1, 2]]"
   ]
  },
  {
   "cell_type": "code",
   "execution_count": 201,
   "id": "3ed94512",
   "metadata": {},
   "outputs": [
    {
     "data": {
      "text/plain": [
       "array([[48, 76, 63],\n",
       "       [73, 36, 45],\n",
       "       [55, 66,  5],\n",
       "       [26, 31,  2]])"
      ]
     },
     "execution_count": 201,
     "metadata": {},
     "output_type": "execute_result"
    }
   ],
   "source": [
    "x[1:,[2,0,1]]"
   ]
  },
  {
   "cell_type": "code",
   "execution_count": 202,
   "id": "217fe80a",
   "metadata": {},
   "outputs": [
    {
     "data": {
      "text/plain": [
       "array([[12, 14, 16, 48, 74],\n",
       "       [ 0, 33, 48, 63, 76],\n",
       "       [36, 45, 50, 60, 73],\n",
       "       [ 5, 43, 55, 66, 80],\n",
       "       [ 2, 26, 31, 31, 57]])"
      ]
     },
     "execution_count": 202,
     "metadata": {},
     "output_type": "execute_result"
    }
   ],
   "source": [
    "np.sort(x) # to sortuje ale nie nadpisuje"
   ]
  },
  {
   "cell_type": "code",
   "execution_count": 221,
   "id": "19f2d279",
   "metadata": {},
   "outputs": [
    {
     "data": {
      "text/plain": [
       "array([[26, 65, 64, 19, 15],\n",
       "       [92, 72, 72, 59, 54],\n",
       "       [82, 81, 88, 54, 44],\n",
       "       [32, 92, 82, 97, 73],\n",
       "       [62, 64, 92, 10, 45]])"
      ]
     },
     "execution_count": 221,
     "metadata": {},
     "output_type": "execute_result"
    }
   ],
   "source": [
    "x"
   ]
  },
  {
   "cell_type": "code",
   "execution_count": 204,
   "id": "19f11f75",
   "metadata": {},
   "outputs": [],
   "source": [
    "x.sort() # sortuje i zmienia oryginalną tablice !!!"
   ]
  },
  {
   "cell_type": "code",
   "execution_count": 231,
   "id": "9b6c085e",
   "metadata": {},
   "outputs": [
    {
     "data": {
      "text/plain": [
       "array([[26, 65, 64, 19, 15],\n",
       "       [92, 72, 72, 59, 54],\n",
       "       [82, 81, 88, 54, 44],\n",
       "       [32, 92, 82, 97, 73],\n",
       "       [62, 64, 92, 10, 45]])"
      ]
     },
     "execution_count": 231,
     "metadata": {},
     "output_type": "execute_result"
    }
   ],
   "source": [
    "x"
   ]
  },
  {
   "cell_type": "code",
   "execution_count": 222,
   "id": "379f4bb8",
   "metadata": {},
   "outputs": [],
   "source": [
    "i = np.argsort(x) # zwrca jak indeksy jeśli byśmy posorotowali tabelę, czyli sortuje wartości przez mapowanie"
   ]
  },
  {
   "cell_type": "code",
   "execution_count": 229,
   "id": "4c09c72d",
   "metadata": {},
   "outputs": [
    {
     "data": {
      "text/plain": [
       "array([[4, 3, 0, 2, 1],\n",
       "       [4, 3, 1, 2, 0],\n",
       "       [4, 3, 1, 0, 2],\n",
       "       [0, 4, 2, 1, 3],\n",
       "       [3, 4, 0, 1, 2]])"
      ]
     },
     "execution_count": 229,
     "metadata": {},
     "output_type": "execute_result"
    }
   ],
   "source": [
    "i"
   ]
  },
  {
   "cell_type": "code",
   "execution_count": 233,
   "id": "2ce3bb09",
   "metadata": {},
   "outputs": [
    {
     "data": {
      "text/plain": [
       "array([[[62, 64, 92, 10, 45],\n",
       "        [32, 92, 82, 97, 73],\n",
       "        [26, 65, 64, 19, 15],\n",
       "        [82, 81, 88, 54, 44],\n",
       "        [92, 72, 72, 59, 54]],\n",
       "\n",
       "       [[62, 64, 92, 10, 45],\n",
       "        [32, 92, 82, 97, 73],\n",
       "        [92, 72, 72, 59, 54],\n",
       "        [82, 81, 88, 54, 44],\n",
       "        [26, 65, 64, 19, 15]],\n",
       "\n",
       "       [[62, 64, 92, 10, 45],\n",
       "        [32, 92, 82, 97, 73],\n",
       "        [92, 72, 72, 59, 54],\n",
       "        [26, 65, 64, 19, 15],\n",
       "        [82, 81, 88, 54, 44]],\n",
       "\n",
       "       [[26, 65, 64, 19, 15],\n",
       "        [62, 64, 92, 10, 45],\n",
       "        [82, 81, 88, 54, 44],\n",
       "        [92, 72, 72, 59, 54],\n",
       "        [32, 92, 82, 97, 73]],\n",
       "\n",
       "       [[32, 92, 82, 97, 73],\n",
       "        [62, 64, 92, 10, 45],\n",
       "        [26, 65, 64, 19, 15],\n",
       "        [92, 72, 72, 59, 54],\n",
       "        [82, 81, 88, 54, 44]]])"
      ]
     },
     "execution_count": 233,
     "metadata": {},
     "output_type": "execute_result"
    }
   ],
   "source": [
    "x[i]"
   ]
  },
  {
   "cell_type": "code",
   "execution_count": 212,
   "id": "c40df625",
   "metadata": {},
   "outputs": [],
   "source": [
    "x = np.random.randint(100, size=5)"
   ]
  },
  {
   "cell_type": "code",
   "execution_count": 213,
   "id": "4de0c693",
   "metadata": {},
   "outputs": [
    {
     "data": {
      "text/plain": [
       "array([88, 81, 65, 19, 65])"
      ]
     },
     "execution_count": 213,
     "metadata": {},
     "output_type": "execute_result"
    }
   ],
   "source": [
    "x"
   ]
  },
  {
   "cell_type": "code",
   "execution_count": 214,
   "id": "557a2bc1",
   "metadata": {},
   "outputs": [],
   "source": [
    "i = np.argsort(x)"
   ]
  },
  {
   "cell_type": "code",
   "execution_count": 215,
   "id": "b13de713",
   "metadata": {},
   "outputs": [
    {
     "data": {
      "text/plain": [
       "array([3, 2, 4, 1, 0])"
      ]
     },
     "execution_count": 215,
     "metadata": {},
     "output_type": "execute_result"
    }
   ],
   "source": [
    "i"
   ]
  },
  {
   "cell_type": "code",
   "execution_count": 216,
   "id": "a5de8688",
   "metadata": {},
   "outputs": [
    {
     "data": {
      "text/plain": [
       "array([19, 65, 65, 81, 88])"
      ]
     },
     "execution_count": 216,
     "metadata": {},
     "output_type": "execute_result"
    }
   ],
   "source": [
    "x[i]"
   ]
  },
  {
   "cell_type": "code",
   "execution_count": null,
   "id": "833ead7e",
   "metadata": {},
   "outputs": [],
   "source": []
  }
 ],
 "metadata": {
  "kernelspec": {
   "display_name": "Python 3 (ipykernel)",
   "language": "python",
   "name": "python3"
  },
  "language_info": {
   "codemirror_mode": {
    "name": "ipython",
    "version": 3
   },
   "file_extension": ".py",
   "mimetype": "text/x-python",
   "name": "python",
   "nbconvert_exporter": "python",
   "pygments_lexer": "ipython3",
   "version": "3.9.7"
  }
 },
 "nbformat": 4,
 "nbformat_minor": 5
}
